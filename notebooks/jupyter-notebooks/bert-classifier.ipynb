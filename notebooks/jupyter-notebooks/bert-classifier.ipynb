{
 "cells": [
  {
   "cell_type": "code",
   "execution_count": 1,
   "metadata": {
    "_cell_guid": "b1076dfc-b9ad-4769-8c92-a6c4dae69d19",
    "_uuid": "8f2839f25d086af736a60e9eeb907d3b93b6e0e5",
    "execution": {
     "iopub.execute_input": "2024-06-17T20:17:40.998936Z",
     "iopub.status.busy": "2024-06-17T20:17:40.998141Z",
     "iopub.status.idle": "2024-06-17T20:18:25.504512Z",
     "shell.execute_reply": "2024-06-17T20:18:25.503394Z",
     "shell.execute_reply.started": "2024-06-17T20:17:40.998904Z"
    }
   },
   "outputs": [
    {
     "name": "stderr",
     "output_type": "stream",
     "text": [
      "2024-06-17 20:17:55.412545: E external/local_xla/xla/stream_executor/cuda/cuda_dnn.cc:9261] Unable to register cuDNN factory: Attempting to register factory for plugin cuDNN when one has already been registered\n",
      "2024-06-17 20:17:55.412652: E external/local_xla/xla/stream_executor/cuda/cuda_fft.cc:607] Unable to register cuFFT factory: Attempting to register factory for plugin cuFFT when one has already been registered\n",
      "2024-06-17 20:17:55.681069: E external/local_xla/xla/stream_executor/cuda/cuda_blas.cc:1515] Unable to register cuBLAS factory: Attempting to register factory for plugin cuBLAS when one has already been registered\n",
      "/opt/conda/lib/python3.10/pty.py:89: RuntimeWarning: os.fork() was called. os.fork() is incompatible with multithreaded code, and JAX is multithreaded, so this will likely lead to a deadlock.\n",
      "  pid, fd = os.forkpty()\n"
     ]
    },
    {
     "name": "stdout",
     "output_type": "stream",
     "text": [
      "Collecting livelossplot\n",
      "  Downloading livelossplot-0.5.5-py3-none-any.whl.metadata (8.7 kB)\n",
      "Requirement already satisfied: matplotlib in /opt/conda/lib/python3.10/site-packages (from livelossplot) (3.7.5)\n",
      "Requirement already satisfied: bokeh in /opt/conda/lib/python3.10/site-packages (from livelossplot) (3.4.1)\n",
      "Requirement already satisfied: Jinja2>=2.9 in /opt/conda/lib/python3.10/site-packages (from bokeh->livelossplot) (3.1.2)\n",
      "Requirement already satisfied: contourpy>=1.2 in /opt/conda/lib/python3.10/site-packages (from bokeh->livelossplot) (1.2.0)\n",
      "Requirement already satisfied: numpy>=1.16 in /opt/conda/lib/python3.10/site-packages (from bokeh->livelossplot) (1.26.4)\n",
      "Requirement already satisfied: packaging>=16.8 in /opt/conda/lib/python3.10/site-packages (from bokeh->livelossplot) (21.3)\n",
      "Requirement already satisfied: pandas>=1.2 in /opt/conda/lib/python3.10/site-packages (from bokeh->livelossplot) (2.2.1)\n",
      "Requirement already satisfied: pillow>=7.1.0 in /opt/conda/lib/python3.10/site-packages (from bokeh->livelossplot) (9.5.0)\n",
      "Requirement already satisfied: PyYAML>=3.10 in /opt/conda/lib/python3.10/site-packages (from bokeh->livelossplot) (6.0.1)\n",
      "Requirement already satisfied: tornado>=6.2 in /opt/conda/lib/python3.10/site-packages (from bokeh->livelossplot) (6.3.3)\n",
      "Requirement already satisfied: xyzservices>=2021.09.1 in /opt/conda/lib/python3.10/site-packages (from bokeh->livelossplot) (2024.4.0)\n",
      "Requirement already satisfied: cycler>=0.10 in /opt/conda/lib/python3.10/site-packages (from matplotlib->livelossplot) (0.12.1)\n",
      "Requirement already satisfied: fonttools>=4.22.0 in /opt/conda/lib/python3.10/site-packages (from matplotlib->livelossplot) (4.47.0)\n",
      "Requirement already satisfied: kiwisolver>=1.0.1 in /opt/conda/lib/python3.10/site-packages (from matplotlib->livelossplot) (1.4.5)\n",
      "Requirement already satisfied: pyparsing>=2.3.1 in /opt/conda/lib/python3.10/site-packages (from matplotlib->livelossplot) (3.1.1)\n",
      "Requirement already satisfied: python-dateutil>=2.7 in /opt/conda/lib/python3.10/site-packages (from matplotlib->livelossplot) (2.9.0.post0)\n",
      "Requirement already satisfied: MarkupSafe>=2.0 in /opt/conda/lib/python3.10/site-packages (from Jinja2>=2.9->bokeh->livelossplot) (2.1.3)\n",
      "Requirement already satisfied: pytz>=2020.1 in /opt/conda/lib/python3.10/site-packages (from pandas>=1.2->bokeh->livelossplot) (2023.3.post1)\n",
      "Requirement already satisfied: tzdata>=2022.7 in /opt/conda/lib/python3.10/site-packages (from pandas>=1.2->bokeh->livelossplot) (2023.4)\n",
      "Requirement already satisfied: six>=1.5 in /opt/conda/lib/python3.10/site-packages (from python-dateutil>=2.7->matplotlib->livelossplot) (1.16.0)\n",
      "Downloading livelossplot-0.5.5-py3-none-any.whl (22 kB)\n",
      "Installing collected packages: livelossplot\n",
      "Successfully installed livelossplot-0.5.5\n"
     ]
    }
   ],
   "source": [
    "import matplotlib.pyplot as plt\n",
    "import numpy as np\n",
    "import pandas as pd\n",
    "import seaborn as sns\n",
    "import torch\n",
    "import torch.nn as nn\n",
    "from torch.nn import CrossEntropyLoss\n",
    "from torch.optim import Adam\n",
    "from torch.optim.lr_scheduler import ReduceLROnPlateau\n",
    "from torch.utils.data import DataLoader, Dataset, random_split\n",
    "from tqdm import tqdm\n",
    "from transformers import BertModel, BertTokenizer, DataCollatorWithPadding\n",
    "!pip install livelossplot\n",
    "from livelossplot import PlotLosses\n",
    "\n",
    "#  ────────────────────────────────────────────────────────────────────\n",
    "#   DATA IMPORT                                                        \n",
    "#  ────────────────────────────────────────────────────────────────────\n",
    "data = pd.read_parquet('/kaggle/input/resume-features-cleaned/resume-features.parquet', columns=['Category', 'cleaned_resumes'])"
   ]
  },
  {
   "cell_type": "code",
   "execution_count": 2,
   "metadata": {
    "execution": {
     "iopub.execute_input": "2024-06-17T20:18:25.507257Z",
     "iopub.status.busy": "2024-06-17T20:18:25.506434Z",
     "iopub.status.idle": "2024-06-17T20:18:25.564842Z",
     "shell.execute_reply": "2024-06-17T20:18:25.563552Z",
     "shell.execute_reply.started": "2024-06-17T20:18:25.507221Z"
    }
   },
   "outputs": [
    {
     "name": "stdout",
     "output_type": "stream",
     "text": [
      "Using cuda.\n"
     ]
    }
   ],
   "source": [
    "#  ────────────────────────────────────────────────────────────────────\n",
    "#   CPU VS GPU                                                         \n",
    "#  ────────────────────────────────────────────────────────────────────\n",
    "if torch.cuda.is_available():\n",
    "    device = torch.device(\"cuda\")\n",
    "else:\n",
    "    device = torch.device('cpu')\n",
    "print(\"Using {}.\".format(device))\n"
   ]
  },
  {
   "cell_type": "code",
   "execution_count": 3,
   "metadata": {
    "execution": {
     "iopub.execute_input": "2024-06-17T20:18:25.567089Z",
     "iopub.status.busy": "2024-06-17T20:18:25.566711Z",
     "iopub.status.idle": "2024-06-17T20:18:26.390983Z",
     "shell.execute_reply": "2024-06-17T20:18:26.390079Z",
     "shell.execute_reply.started": "2024-06-17T20:18:25.567018Z"
    }
   },
   "outputs": [
    {
     "data": {
      "application/vnd.jupyter.widget-view+json": {
       "model_id": "13af0ffee29c4dd398eb922acd9a9724",
       "version_major": 2,
       "version_minor": 0
      },
      "text/plain": [
       "tokenizer_config.json:   0%|          | 0.00/48.0 [00:00<?, ?B/s]"
      ]
     },
     "metadata": {},
     "output_type": "display_data"
    },
    {
     "data": {
      "application/vnd.jupyter.widget-view+json": {
       "model_id": "707d57a2ce834e488f7f1cdcacd9eaf0",
       "version_major": 2,
       "version_minor": 0
      },
      "text/plain": [
       "vocab.txt:   0%|          | 0.00/232k [00:00<?, ?B/s]"
      ]
     },
     "metadata": {},
     "output_type": "display_data"
    },
    {
     "data": {
      "application/vnd.jupyter.widget-view+json": {
       "model_id": "33e138830d3c4866ad0abcec7ff9d1f3",
       "version_major": 2,
       "version_minor": 0
      },
      "text/plain": [
       "tokenizer.json:   0%|          | 0.00/466k [00:00<?, ?B/s]"
      ]
     },
     "metadata": {},
     "output_type": "display_data"
    },
    {
     "name": "stderr",
     "output_type": "stream",
     "text": [
      "/opt/conda/lib/python3.10/site-packages/huggingface_hub/file_download.py:1132: FutureWarning: `resume_download` is deprecated and will be removed in version 1.0.0. Downloads always resume when possible. If you want to force a new download, use `force_download=True`.\n",
      "  warnings.warn(\n"
     ]
    },
    {
     "data": {
      "application/vnd.jupyter.widget-view+json": {
       "model_id": "d2874e50659344548346e98514e00428",
       "version_major": 2,
       "version_minor": 0
      },
      "text/plain": [
       "config.json:   0%|          | 0.00/570 [00:00<?, ?B/s]"
      ]
     },
     "metadata": {},
     "output_type": "display_data"
    }
   ],
   "source": [
    "#  ────────────────────────────────────────────────────────────────────\n",
    "#   DATASET AND DATALOADERS                                            \n",
    "#  ────────────────────────────────────────────────────────────────────\n",
    "tokenizer = BertTokenizer.from_pretrained('bert-base-uncased')\n",
    "\n",
    "class ResumeBertDataset(Dataset):\n",
    "    def __init__(self, data, max_length, tokenizer=tokenizer, device=device):\n",
    "        super().__init__()\n",
    "        self.texts = data.iloc[:,1].values\n",
    "        self.labels = torch.tensor(data.iloc[:,0])\n",
    "        self.max_length = max_length\n",
    "        self.tokenizer = tokenizer\n",
    "        self.device = device\n",
    "\n",
    "    def __len__(self):\n",
    "        return len(self.labels)\n",
    "\n",
    "    def num_class(self):\n",
    "        return len(self.labels.unique())\n",
    "\n",
    "    def __getitem__(self, idx):\n",
    "        resumes = self.texts[idx]\n",
    "        labels = self.labels[idx]\n",
    "\n",
    "        encoding = self.tokenizer.encode_plus(\n",
    "            resumes,\n",
    "            add_special_tokens=True,\n",
    "            max_length=self.max_length,\n",
    "            truncation=True,\n",
    "            padding=False,\n",
    "            return_attention_mask=True,\n",
    "            return_tensors='pt'\n",
    "        ).to(self.device)\n",
    "\n",
    "        input_ids = encoding['input_ids'].squeeze()\n",
    "        attention_mask = encoding['attention_mask'].squeeze()\n",
    "\n",
    "        return {\n",
    "            'input_ids': input_ids,\n",
    "            'attention_mask': attention_mask,\n",
    "            'labels': labels\n",
    "        }\n",
    "\n",
    "dataset = ResumeBertDataset(data, max_length=512)\n",
    "train_dataset, val_dataset, test_dataset = random_split(dataset, [0.7, 0.15, 0.15])\n",
    "\n",
    "data_collator = DataCollatorWithPadding(tokenizer=tokenizer)\n",
    "\n",
    "train_loader = DataLoader(train_dataset, batch_size=16, shuffle=True, collate_fn=data_collator)\n",
    "val_loader = DataLoader(val_dataset, batch_size=16, shuffle=True, collate_fn=data_collator)\n",
    "test_loader = DataLoader(test_dataset, batch_size=16, shuffle=True, collate_fn=data_collator)\n"
   ]
  },
  {
   "cell_type": "code",
   "execution_count": 4,
   "metadata": {
    "execution": {
     "iopub.execute_input": "2024-06-17T20:18:26.394187Z",
     "iopub.status.busy": "2024-06-17T20:18:26.393498Z",
     "iopub.status.idle": "2024-06-17T20:18:26.401373Z",
     "shell.execute_reply": "2024-06-17T20:18:26.400275Z",
     "shell.execute_reply.started": "2024-06-17T20:18:26.394150Z"
    }
   },
   "outputs": [],
   "source": [
    "#  ────────────────────────────────────────────────────────────────────\n",
    "#   MODEL DEFINITION                                                   \n",
    "#  ────────────────────────────────────────────────────────────────────\n",
    "class BertResumeClassifier(nn.Module):\n",
    "    def __init__(self, n_classes: int, dropout: float = 0.01):\n",
    "        super().__init__()\n",
    "        self.bert = BertModel.from_pretrained('bert-base-uncased')\n",
    "        self.dropout = nn.Dropout(dropout)\n",
    "        self.out = nn.Linear(self.bert.config.hidden_size, n_classes)\n",
    "\n",
    "    def forward(self, input_ids, attention_mask):\n",
    "        pooled_output = self.bert(\n",
    "          input_ids=input_ids,\n",
    "          attention_mask=attention_mask\n",
    "        )['pooler_output']\n",
    "        output = self.dropout(pooled_output)\n",
    "        output = self.out(output)\n",
    "        return output\n",
    "\n"
   ]
  },
  {
   "cell_type": "code",
   "execution_count": 6,
   "metadata": {
    "execution": {
     "iopub.execute_input": "2024-06-17T20:18:46.162605Z",
     "iopub.status.busy": "2024-06-17T20:18:46.162224Z",
     "iopub.status.idle": "2024-06-17T20:18:46.192462Z",
     "shell.execute_reply": "2024-06-17T20:18:46.191406Z",
     "shell.execute_reply.started": "2024-06-17T20:18:46.162580Z"
    }
   },
   "outputs": [],
   "source": [
    "def train_BERT(model, train_loader, val_loader, epochs, criterion, optimizer, scheduler=None, visualize=None, save=None):\n",
    "    \"\"\"\n",
    "    This function trains a PyTorch model using the given data loaders and hyperparameters.\n",
    "    The function also supports visualization using liveloss or matplotlib.\n",
    "\n",
    "    Parameters:\n",
    "    - model: object: A PyTorch model object.\n",
    "    - train_loader: DataLoader: A DataLoader object containing the training data.\n",
    "    - val_loader: DataLoader: A DataLoader object containing the validation data.\n",
    "    - criterion: object: A loss function object.\n",
    "    - optimizer: object: An optimizer object.\n",
    "    - epochs: int: The number of epochs to train the model.\n",
    "    - scheduler: object: A learning rate scheduler object.\n",
    "    - visualize: str: A string that determines the visualization method. Choose from [None, 'liveloss', 'matplotlib'].\n",
    "    - save_path: str: A string containing the path to save the best model.\n",
    "\n",
    "    Returns:\n",
    "    Model performance metrics and visualization.\n",
    "    \"\"\"\n",
    "    best_val_loss = float('inf')\n",
    "    best_model_wts = None\n",
    "    \n",
    "    assert visualize in [None, 'liveloss', 'matplotlib'], \"Invalid visualization method. Choose from [None, 'liveloss', 'matplotlib'].\"\n",
    "\n",
    "    if visualize == 'liveloss':\n",
    "        liveloss = PlotLosses()\n",
    "\n",
    "    if visualize == 'matplotlib':\n",
    "        train_losses, train_accuracies, val_losses, val_accuracies = [], [], [], []\n",
    "\n",
    "    for epoch in range(epochs):\n",
    "        print(f\"Epoch {epoch+1}/{epochs}\")\n",
    "\n",
    "        # Training Phase\n",
    "        logs = {}\n",
    "        model.train()\n",
    "        train_loss, train_corrects, train_total = 0.0, 0, 0\n",
    "\n",
    "        for batch in tqdm(train_loader, desc=\"Training\", leave=False):\n",
    "            data, mask, labels = batch['input_ids'].to(device), batch['attention_mask'].to(device), batch['labels'].to(device)\n",
    "            optimizer.zero_grad()\n",
    "\n",
    "            outputs = model(input_ids=data, attention_mask=mask)\n",
    "            loss = criterion(outputs, labels)\n",
    "            loss.backward()\n",
    "            optimizer.step()\n",
    "\n",
    "            train_loss += loss.item() * data.size(0)\n",
    "            _, preds = torch.max(outputs, 1)\n",
    "            train_corrects += torch.sum(preds == labels.data)\n",
    "            train_total += data.size(0)\n",
    "\n",
    "        train_loss /= len(train_loader.dataset)\n",
    "        train_accuracy = train_corrects.double() / train_total\n",
    "\n",
    "        model.eval()\n",
    "        val_loss, val_corrects, val_total = 0.0, 0, 0\n",
    "\n",
    "        with torch.no_grad():\n",
    "            for batch in tqdm(val_loader, desc=\"Validation\", leave=False):\n",
    "                data, mask, labels = batch['input_ids'].to(device), batch['attention_mask'].to(device), batch['labels'].to(device)\n",
    "\n",
    "                outputs = model(input_ids=data, attention_mask=mask) \n",
    "                loss = criterion(outputs, labels)\n",
    "\n",
    "                val_loss += loss.item() * data.size(0)\n",
    "                _, preds = torch.max(outputs, 1)\n",
    "                val_corrects += torch.sum(preds == labels.data)\n",
    "                val_total += data.size(0)\n",
    "\n",
    "        val_loss /= len(val_loader.dataset)\n",
    "        val_accuracy = val_corrects.double() / val_total\n",
    "\n",
    "        if visualize != 'liveloss':\n",
    "            print(f\"Train Loss: {train_loss:.4f} | Train Acc: {train_accuracy:.4f}\")\n",
    "            print(f\"  Val Loss: {val_loss:.4f} |   Val Acc: {val_accuracy:.4f}\")\n",
    "\n",
    "        if scheduler.__class__.__name__ == 'ReduceLROnPlateau':\n",
    "            scheduler.step(val_loss)\n",
    "        else:\n",
    "            scheduler.step()\n",
    "\n",
    "        # Save logs for visualization\n",
    "        if visualize == 'liveloss':\n",
    "            logs['log loss'] = train_loss\n",
    "            logs['accuracy'] = train_accuracy.item()\n",
    "            logs['val_log loss'] = val_loss\n",
    "            logs['val_accuracy'] = val_accuracy.item()\n",
    "            liveloss.update(logs)\n",
    "            liveloss.send()\n",
    "        elif visualize == 'matplotlib':\n",
    "            train_losses.append(train_loss)\n",
    "            train_accuracies.append(train_accuracy.cpu())  # Move to CPU\n",
    "            val_losses.append(val_loss)\n",
    "            val_accuracies.append(val_accuracy.cpu())  # Move to CPU\n",
    "\n",
    "        # Check if current model is the best model\n",
    "        if val_loss < best_val_loss:\n",
    "            best_val_loss = val_loss\n",
    "            best_val_accuracy = val_accuracy\n",
    "            best_model_wts = model.state_dict().copy()\n",
    "            print(f\"👉 New best model with val loss: {val_loss:.4f}!\")\n",
    "\n",
    "        print(\"-\" * 30)\n",
    "\n",
    "    # Save best model\n",
    "    if save and best_model_wts:\n",
    "        torch.save(best_model_wts, save)\n",
    "        print(f\"Best model saved:\")\n",
    "        print(f\"Val Loss: {best_val_loss:.4f} | Val Acc: {best_val_accuracy:.4f}\")\n",
    "\n",
    "    # Plot in matplotlib\n",
    "    if visualize == 'matplotlib':\n",
    "        plt.figure(figsize=(10, 5))\n",
    "\n",
    "        # Plot training and validation losses\n",
    "        plt.subplot(1, 2, 1)\n",
    "        plt.plot(train_losses, label='Training Loss')\n",
    "        plt.plot(val_losses, label='Validation Loss')\n",
    "        plt.xlabel('Epoch')\n",
    "        plt.ylabel('Loss')\n",
    "        plt.title('Loss')\n",
    "        plt.legend()\n",
    "\n",
    "        # Plot training and validation accuracies\n",
    "        plt.subplot(1, 2, 2)\n",
    "        plt.plot(train_accuracies, label='Training Accuracy')\n",
    "        plt.plot(val_accuracies, label='Validation Accuracy')\n",
    "        plt.xlabel('Epoch')\n",
    "        plt.ylabel('Accuracy')\n",
    "        plt.title('Accuracy')\n",
    "        plt.legend()\n",
    "\n",
    "        plt.tight_layout()\n",
    "        plt.show()\n",
    "\n",
    "    print(\"✅ Training complete!\")\n",
    "\n",
    "def test_BERT(model, test_loader, criterion):\n",
    "    \"\"\"\n",
    "    This function tests a PyTorch model using the given data loader and loss function.\n",
    "\n",
    "    Parameters:\n",
    "    - model: object: A PyTorch model object.\n",
    "    - test_loader: DataLoader: A DataLoader object containing the testing data.\n",
    "    - criterion: object: A loss function object.\n",
    "\n",
    "    Returns:\n",
    "    Model performance metrics.\n",
    "    \"\"\"\n",
    "    model.eval()\n",
    "    test_loss, test_corrects, test_total = 0.0, 0, 0\n",
    "\n",
    "    with torch.no_grad():\n",
    "        for batch in tqdm(test_loader, desc=\"Testing\", leave=False):\n",
    "            data, mask, labels = batch['input_ids'].to(device), batch['attention_mask'].to(device), batch['labels'].to(device)\n",
    "\n",
    "            outputs = model(data, mask)\n",
    "            loss = criterion(outputs, labels)\n",
    "\n",
    "            test_loss += loss.item() * data.size(0)\n",
    "            _, preds = torch.max(outputs, 1)\n",
    "            test_corrects += torch.sum(preds == labels.data)\n",
    "            test_total += data.size(0)\n",
    "\n",
    "    test_loss /= len(test_loader.dataset)\n",
    "    test_accuracy = test_corrects.double() / test_total\n",
    "\n",
    "    print(f\"Test Loss: {test_loss:.4f} | Test Acc: {test_accuracy:.4f}\")\n",
    "    print(\"✅ Testing complete!\")\n",
    "\n",
    "    return test_loss, test_accuracy\n"
   ]
  },
  {
   "cell_type": "code",
   "execution_count": 8,
   "metadata": {
    "execution": {
     "iopub.execute_input": "2024-06-17T20:19:20.828375Z",
     "iopub.status.busy": "2024-06-17T20:19:20.827542Z",
     "iopub.status.idle": "2024-06-17T21:04:09.727043Z",
     "shell.execute_reply": "2024-06-17T21:04:09.726069Z",
     "shell.execute_reply.started": "2024-06-17T20:19:20.828341Z"
    }
   },
   "outputs": [
    {
     "data": {
      "image/png": "[encoded data removed]",
      "text/plain": [
       "<Figure size 1200x800 with 2 Axes>"
      ]
     },
     "metadata": {},
     "output_type": "display_data"
    },
    {
     "name": "stdout",
     "output_type": "stream",
     "text": [
      "accuracy\n",
      "\ttraining         \t (min:    0.050, max:    0.991, cur:    0.991)\n",
      "\tvalidation       \t (min:    0.120, max:    0.933, cur:    0.933)\n",
      "log loss\n",
      "\ttraining         \t (min:    0.081, max:    3.189, cur:    0.081)\n",
      "\tvalidation       \t (min:    0.414, max:    3.002, cur:    0.428)\n",
      "------------------------------\n",
      "Best model saved:\n",
      "Val Loss: 0.4143 | Val Acc: 0.9190\n",
      "✅ Training complete!\n"
     ]
    }
   ],
   "source": [
    "#  ────────────────────────────────────────────────────────────────────\n",
    "#   HYPERPARAMETERS                                                    \n",
    "#  ────────────────────────────────────────────────────────────────────\n",
    "n_classes = dataset.num_class()\n",
    "model = BertResumeClassifier(n_classes).to(device)\n",
    "criterion = CrossEntropyLoss().to(device)\n",
    "optimizer = Adam(model.parameters(), lr=2e-5)\n",
    "scheduler = ReduceLROnPlateau(optimizer, patience=2)\n",
    "epochs = 10\n",
    "\n",
    "train_BERT(model, train_loader, val_loader, epochs, criterion, optimizer, scheduler, \n",
    "           visualize='liveloss',\n",
    "           save='bert-model.pth.gz')"
   ]
  },
  {
   "cell_type": "code",
   "execution_count": 9,
   "metadata": {
    "execution": {
     "iopub.execute_input": "2024-06-17T21:06:13.133037Z",
     "iopub.status.busy": "2024-06-17T21:06:13.132129Z",
     "iopub.status.idle": "2024-06-17T21:06:37.597133Z",
     "shell.execute_reply": "2024-06-17T21:06:37.596012Z",
     "shell.execute_reply.started": "2024-06-17T21:06:13.133000Z"
    }
   },
   "outputs": [
    {
     "name": "stderr",
     "output_type": "stream",
     "text": [
      "                                                        \r"
     ]
    },
    {
     "name": "stdout",
     "output_type": "stream",
     "text": [
      "Test Loss: 0.3743 | Test Acc: 0.9236\n",
      "✅ Testing complete!\n"
     ]
    },
    {
     "data": {
      "text/plain": [
       "(0.37430223650126543, tensor(0.9236, device='cuda:0', dtype=torch.float64))"
      ]
     },
     "execution_count": 9,
     "metadata": {},
     "output_type": "execute_result"
    }
   ],
   "source": [
    "test_BERT(model, test_loader, criterion)"
   ]
  }
 ],
 "metadata": {
  "kaggle": {
   "accelerator": "nvidiaTeslaT4",
   "dataSources": [
    {
     "datasetId": 5171615,
     "sourceId": 8636294,
     "sourceType": "datasetVersion"
    }
   ],
   "dockerImageVersionId": 30733,
   "isGpuEnabled": true,
   "isInternetEnabled": true,
   "language": "python",
   "sourceType": "notebook"
  },
  "kernelspec": {
   "display_name": "Python 3 (ipykernel)",
   "language": "python",
   "name": "python3"
  },
  "language_info": {
   "codemirror_mode": {
    "name": "ipython",
    "version": 3
   },
   "file_extension": ".py",
   "mimetype": "text/x-python",
   "name": "python",
   "nbconvert_exporter": "python",
   "pygments_lexer": "ipython3",
   "version": "3.10.14"
  }
 },
 "nbformat": 4,
 "nbformat_minor": 4
}
